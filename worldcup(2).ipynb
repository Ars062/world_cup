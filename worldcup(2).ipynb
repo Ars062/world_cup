{
 "cells": [
  {
   "cell_type": "code",
   "execution_count": 1,
   "id": "234c28e6-7c2a-4ca3-939b-f18cf3d9b479",
   "metadata": {},
   "outputs": [
    {
     "name": "stdout",
     "output_type": "stream",
     "text": [
      "Defaulting to user installation because normal site-packages is not writeable\n",
      "Requirement already satisfied: beautifulsoup4 in e:\\anaconda\\new folder\\lib\\site-packages (4.12.3)\n",
      "Requirement already satisfied: soupsieve>1.2 in e:\\anaconda\\new folder\\lib\\site-packages (from beautifulsoup4) (2.5)\n"
     ]
    }
   ],
   "source": [
    "!pip install beautifulsoup4\n"
   ]
  },
  {
   "cell_type": "code",
   "execution_count": 2,
   "id": "51aab8b1-5ab4-428d-ab38-dab8b80abd3b",
   "metadata": {},
   "outputs": [
    {
     "name": "stdout",
     "output_type": "stream",
     "text": [
      "Defaulting to user installation because normal site-packages is not writeable\n",
      "Requirement already satisfied: pandas in e:\\anaconda\\new folder\\lib\\site-packages (2.2.2)\n",
      "Requirement already satisfied: numpy>=1.26.0 in e:\\anaconda\\new folder\\lib\\site-packages (from pandas) (1.26.4)\n",
      "Requirement already satisfied: python-dateutil>=2.8.2 in e:\\anaconda\\new folder\\lib\\site-packages (from pandas) (2.9.0.post0)\n",
      "Requirement already satisfied: pytz>=2020.1 in e:\\anaconda\\new folder\\lib\\site-packages (from pandas) (2024.1)\n",
      "Requirement already satisfied: tzdata>=2022.7 in e:\\anaconda\\new folder\\lib\\site-packages (from pandas) (2023.3)\n",
      "Requirement already satisfied: six>=1.5 in e:\\anaconda\\new folder\\lib\\site-packages (from python-dateutil>=2.8.2->pandas) (1.16.0)\n"
     ]
    }
   ],
   "source": [
    "!pip install pandas"
   ]
  },
  {
   "cell_type": "code",
   "execution_count": 3,
   "id": "838ded46-a38f-48e4-94e2-221cc557999a",
   "metadata": {},
   "outputs": [],
   "source": [
    "from bs4 import BeautifulSoup\n",
    "import requests"
   ]
  },
  {
   "cell_type": "code",
   "execution_count": 4,
   "id": "e56d281e-3705-40e0-be06-dfe8ab382898",
   "metadata": {},
   "outputs": [],
   "source": [
    "import pandas as pd"
   ]
  },
  {
   "cell_type": "code",
   "execution_count": 5,
   "id": "692c8efe-67e2-4ef1-81c1-53ca4a0ad953",
   "metadata": {},
   "outputs": [],
   "source": [
    "url=\"https://www.espncricinfo.com/records/tournament/batting-most-runs-career/icc-men-s-t20-world-cup-2024-15946\"\n",
    "page=requests.get(url)\n",
    "soul= BeautifulSoup(page.text)"
   ]
  },
  {
   "cell_type": "code",
   "execution_count": 6,
   "id": "1a7e53c3-fe16-47f8-bbc6-4124be37434a",
   "metadata": {},
   "outputs": [
    {
     "name": "stdout",
     "output_type": "stream",
     "text": [
      "<html><head>\n",
      "<title>Access Denied</title>\n",
      "</head><body>\n",
      "<h1>Access Denied</h1>\n",
      " \n",
      "You don't have permission to access \"http://www.espncricinfo.com/records/tournament/batting-most-runs-career/icc-men-s-t20-world-cup-2024-15946\" on this server.<p>\n",
      "Reference #18.15d92c31.1739427395.258a60ec\n",
      "</p><p>https://errors.edgesuite.net/18.15d92c31.1739427395.258a60ec</p>\n",
      "</body>\n",
      "</html>\n",
      "\n"
     ]
    }
   ],
   "source": [
    "print(soul)"
   ]
  },
  {
   "cell_type": "code",
   "execution_count": 7,
   "id": "a7a49820-774e-415c-9940-aee9e2b13d92",
   "metadata": {},
   "outputs": [],
   "source": [
    "df=pd.read_html(url)"
   ]
  },
  {
   "cell_type": "code",
   "execution_count": 8,
   "id": "6cf069f5-a659-4ab4-b8d2-c343e76dc4a2",
   "metadata": {},
   "outputs": [
    {
     "data": {
      "text/plain": [
       "[                       Player       Span  Mat  Inns NO  Runs  HS    Ave   BF  \\\n",
       " 0    Rahmanullah Gurbaz (AFG)  2024-2024    8     8  -   281  80  35.12  226   \n",
       " 1             RG Sharma (IND)  2024-2024    8     8  1   257  92  36.71  164   \n",
       " 2               TM Head (AUS)  2024-2024    7     7  1   255  76  42.50  161   \n",
       " 3              Q de Kock (SA)  2024-2024    9     9  -   243  74  27.00  173   \n",
       " 4        Ibrahim Zadran (AFG)  2024-2024    8     8  -   231  70  28.87  215   \n",
       " ..                        ...        ...  ...   ... ..   ...  ..    ...  ...   \n",
       " 145             N Vanua (PNG)  2024-2024    3     3  -    19  14   6.33   30   \n",
       " 146            K Waiswa (UGA)  2024-2024    3     3  1    19  11   9.50   44   \n",
       " 147            DS Bajwa (CAN)  2024-2024    2     2  -    18  11   9.00   14   \n",
       " 148            Karan KC (NEP)  2024-2024    2     1  -    17  17  17.00   12   \n",
       " 149        Abbas Afridi (PAK)  2024-2024    1     1  -    17  17  17.00   21   \n",
       " \n",
       "          SR 100 50  0  4s  6s  \n",
       " 0    124.33   -  3  2  18  16  \n",
       " 1    156.70   -  3  -  24  15  \n",
       " 2    158.38   -  2  1  26  15  \n",
       " 3    140.46   -  2  1  21  13  \n",
       " 4    107.44   -  2  1  25   4  \n",
       " ..      ...  .. .. ..  ..  ..  \n",
       " 145   63.33   -  -  1   1   1  \n",
       " 146   43.18   -  -  -   2   0  \n",
       " 147  128.57   -  -  -   2   1  \n",
       " 148  141.66   -  -  -   0   2  \n",
       " 149   80.95   -  -  -   1   1  \n",
       " \n",
       " [150 rows x 15 columns]]"
      ]
     },
     "execution_count": 8,
     "metadata": {},
     "output_type": "execute_result"
    }
   ],
   "source": [
    "df"
   ]
  },
  {
   "cell_type": "code",
   "execution_count": 15,
   "id": "d5973b6d-d559-413e-98d4-75c059aa6489",
   "metadata": {},
   "outputs": [],
   "source": [
    "df.to_csv(\"batting.csv\")"
   ]
  },
  {
   "cell_type": "code",
   "execution_count": 14,
   "id": "df8b8c09-b3f4-4baf-a16d-9c2045a4ebcc",
   "metadata": {},
   "outputs": [
    {
     "name": "stdout",
     "output_type": "stream",
     "text": [
      "Total tables extracted: 1\n",
      "                     Player       Span  Mat  Inns NO  Runs  HS    Ave   BF  \\\n",
      "0  Rahmanullah Gurbaz (AFG)  2024-2024    8     8  -   281  80  35.12  226   \n",
      "1           RG Sharma (IND)  2024-2024    8     8  1   257  92  36.71  164   \n",
      "2             TM Head (AUS)  2024-2024    7     7  1   255  76  42.50  161   \n",
      "3            Q de Kock (SA)  2024-2024    9     9  -   243  74  27.00  173   \n",
      "4      Ibrahim Zadran (AFG)  2024-2024    8     8  -   231  70  28.87  215   \n",
      "\n",
      "       SR 100 50  0  4s  6s  \n",
      "0  124.33   -  3  2  18  16  \n",
      "1  156.70   -  3  -  24  15  \n",
      "2  158.38   -  2  1  26  15  \n",
      "3  140.46   -  2  1  21  13  \n",
      "4  107.44   -  2  1  25   4  \n"
     ]
    }
   ],
   "source": [
    "import pandas as pd\n",
    "\n",
    "# URL of the webpage\n",
    "url = \"https://www.espncricinfo.com/records/tournament/batting-most-runs-career/icc-men-s-t20-world-cup-2024-15946\"\n",
    "\n",
    "# Read tables from the webpage\n",
    "tables = pd.read_html(url)\n",
    "\n",
    "# Check how many tables are extracted\n",
    "print(f\"Total tables extracted: {len(tables)}\")\n",
    "\n",
    "# Assuming the first table contains the data we need\n",
    "df = tables[0]\n",
    "\n",
    "# Display the first few rows to check\n",
    "print(df.head())\n",
    "\n",
    "# Save the DataFrame to a CSV file\n",
    "df.to_csv(\"t20_world_cup_2024_most_runs.csv\", index=False)\n"
   ]
  },
  {
   "cell_type": "code",
   "execution_count": null,
   "id": "8eb1bbb3-2cff-45ee-83d4-106a819c932a",
   "metadata": {},
   "outputs": [],
   "source": []
  }
 ],
 "metadata": {
  "kernelspec": {
   "display_name": "Python 3 (ipykernel)",
   "language": "python",
   "name": "python3"
  },
  "language_info": {
   "codemirror_mode": {
    "name": "ipython",
    "version": 3
   },
   "file_extension": ".py",
   "mimetype": "text/x-python",
   "name": "python",
   "nbconvert_exporter": "python",
   "pygments_lexer": "ipython3",
   "version": "3.12.7"
  }
 },
 "nbformat": 4,
 "nbformat_minor": 5
}
